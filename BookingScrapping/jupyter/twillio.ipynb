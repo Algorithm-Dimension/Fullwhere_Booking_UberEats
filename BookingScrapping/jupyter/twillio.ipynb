{
 "cells": [
  {
   "cell_type": "code",
   "execution_count": 2,
   "id": "df697ed3",
   "metadata": {},
   "outputs": [],
   "source": [
    "import os\n",
    "from twilio.rest import Client"
   ]
  },
  {
   "cell_type": "code",
   "execution_count": 5,
   "id": "cfbd8f6e",
   "metadata": {},
   "outputs": [],
   "source": [
    "recovery_code = \"PE3dgFT-2AYwEJfkaszo6RSozcWZBonTiKtP11Ih\""
   ]
  },
  {
   "cell_type": "code",
   "execution_count": 3,
   "id": "72e60960",
   "metadata": {},
   "outputs": [],
   "source": [
    "account_sid = \"ACb5c074a31c63bf96c63e20def9f2d552\"\n",
    "auth_token = \"836574d8e2a6604e42662b2d6e2f6aed\"\n",
    "client = Client(account_sid, auth_token)"
   ]
  },
  {
   "cell_type": "code",
   "execution_count": 5,
   "id": "cf3804a9",
   "metadata": {},
   "outputs": [
    {
     "ename": "TwilioRestException",
     "evalue": "HTTP 400 error: Unable to create record: The From phone number +972529369061 is not a valid, SMS-capable inbound phone number or short code for your account.",
     "output_type": "error",
     "traceback": [
      "\u001b[0;31m---------------------------------------------------------------------------\u001b[0m",
      "\u001b[0;31mTwilioRestException\u001b[0m                       Traceback (most recent call last)",
      "\u001b[0;32m/var/folders/5f/11kfqlnd6js7ys_pjkyxtjn40000gn/T/ipykernel_70083/930760471.py\u001b[0m in \u001b[0;36m<module>\u001b[0;34m\u001b[0m\n\u001b[1;32m      3\u001b[0m                      \u001b[0mbody\u001b[0m\u001b[0;34m=\u001b[0m\u001b[0;34m\"Join Earth's mightiest heroes. Like Kevin Bacon.\"\u001b[0m\u001b[0;34m,\u001b[0m\u001b[0;34m\u001b[0m\u001b[0;34m\u001b[0m\u001b[0m\n\u001b[1;32m      4\u001b[0m                      \u001b[0mfrom_\u001b[0m\u001b[0;34m=\u001b[0m\u001b[0;34m'+972529369061'\u001b[0m\u001b[0;34m,\u001b[0m\u001b[0;34m\u001b[0m\u001b[0;34m\u001b[0m\u001b[0m\n\u001b[0;32m----> 5\u001b[0;31m                      \u001b[0mto\u001b[0m\u001b[0;34m=\u001b[0m\u001b[0;34m'+972585096390'\u001b[0m\u001b[0;34m\u001b[0m\u001b[0;34m\u001b[0m\u001b[0m\n\u001b[0m\u001b[1;32m      6\u001b[0m                  )\n\u001b[1;32m      7\u001b[0m \u001b[0;34m\u001b[0m\u001b[0m\n",
      "\u001b[0;32m~/PycharmProjects/shopify/venv/lib/python3.7/site-packages/twilio/rest/api/v2010/account/message/__init__.py\u001b[0m in \u001b[0;36mcreate\u001b[0;34m(self, to, status_callback, application_sid, max_price, provide_feedback, attempt, validity_period, force_delivery, content_retention, address_retention, smart_encoded, persistent_action, shorten_urls, schedule_type, send_at, send_as_mms, content_sid, content_variables, from_, messaging_service_sid, body, media_url)\u001b[0m\n\u001b[1;32m    101\u001b[0m         })\n\u001b[1;32m    102\u001b[0m \u001b[0;34m\u001b[0m\u001b[0m\n\u001b[0;32m--> 103\u001b[0;31m         \u001b[0mpayload\u001b[0m \u001b[0;34m=\u001b[0m \u001b[0mself\u001b[0m\u001b[0;34m.\u001b[0m\u001b[0m_version\u001b[0m\u001b[0;34m.\u001b[0m\u001b[0mcreate\u001b[0m\u001b[0;34m(\u001b[0m\u001b[0mmethod\u001b[0m\u001b[0;34m=\u001b[0m\u001b[0;34m'POST'\u001b[0m\u001b[0;34m,\u001b[0m \u001b[0muri\u001b[0m\u001b[0;34m=\u001b[0m\u001b[0mself\u001b[0m\u001b[0;34m.\u001b[0m\u001b[0m_uri\u001b[0m\u001b[0;34m,\u001b[0m \u001b[0mdata\u001b[0m\u001b[0;34m=\u001b[0m\u001b[0mdata\u001b[0m\u001b[0;34m,\u001b[0m \u001b[0;34m)\u001b[0m\u001b[0;34m\u001b[0m\u001b[0;34m\u001b[0m\u001b[0m\n\u001b[0m\u001b[1;32m    104\u001b[0m \u001b[0;34m\u001b[0m\u001b[0m\n\u001b[1;32m    105\u001b[0m         \u001b[0;32mreturn\u001b[0m \u001b[0mMessageInstance\u001b[0m\u001b[0;34m(\u001b[0m\u001b[0mself\u001b[0m\u001b[0;34m.\u001b[0m\u001b[0m_version\u001b[0m\u001b[0;34m,\u001b[0m \u001b[0mpayload\u001b[0m\u001b[0;34m,\u001b[0m \u001b[0maccount_sid\u001b[0m\u001b[0;34m=\u001b[0m\u001b[0mself\u001b[0m\u001b[0;34m.\u001b[0m\u001b[0m_solution\u001b[0m\u001b[0;34m[\u001b[0m\u001b[0;34m'account_sid'\u001b[0m\u001b[0;34m]\u001b[0m\u001b[0;34m,\u001b[0m \u001b[0;34m)\u001b[0m\u001b[0;34m\u001b[0m\u001b[0;34m\u001b[0m\u001b[0m\n",
      "\u001b[0;32m~/PycharmProjects/shopify/venv/lib/python3.7/site-packages/twilio/base/version.py\u001b[0m in \u001b[0;36mcreate\u001b[0;34m(self, method, uri, params, data, headers, auth, timeout, allow_redirects)\u001b[0m\n\u001b[1;32m    203\u001b[0m \u001b[0;34m\u001b[0m\u001b[0m\n\u001b[1;32m    204\u001b[0m         \u001b[0;32mif\u001b[0m \u001b[0mresponse\u001b[0m\u001b[0;34m.\u001b[0m\u001b[0mstatus_code\u001b[0m \u001b[0;34m<\u001b[0m \u001b[0;36m200\u001b[0m \u001b[0;32mor\u001b[0m \u001b[0mresponse\u001b[0m\u001b[0;34m.\u001b[0m\u001b[0mstatus_code\u001b[0m \u001b[0;34m>=\u001b[0m \u001b[0;36m300\u001b[0m\u001b[0;34m:\u001b[0m\u001b[0;34m\u001b[0m\u001b[0;34m\u001b[0m\u001b[0m\n\u001b[0;32m--> 205\u001b[0;31m             \u001b[0;32mraise\u001b[0m \u001b[0mself\u001b[0m\u001b[0;34m.\u001b[0m\u001b[0mexception\u001b[0m\u001b[0;34m(\u001b[0m\u001b[0mmethod\u001b[0m\u001b[0;34m,\u001b[0m \u001b[0muri\u001b[0m\u001b[0;34m,\u001b[0m \u001b[0mresponse\u001b[0m\u001b[0;34m,\u001b[0m \u001b[0;34m'Unable to create record'\u001b[0m\u001b[0;34m)\u001b[0m\u001b[0;34m\u001b[0m\u001b[0;34m\u001b[0m\u001b[0m\n\u001b[0m\u001b[1;32m    206\u001b[0m \u001b[0;34m\u001b[0m\u001b[0m\n\u001b[1;32m    207\u001b[0m         \u001b[0;32mreturn\u001b[0m \u001b[0mjson\u001b[0m\u001b[0;34m.\u001b[0m\u001b[0mloads\u001b[0m\u001b[0;34m(\u001b[0m\u001b[0mresponse\u001b[0m\u001b[0;34m.\u001b[0m\u001b[0mtext\u001b[0m\u001b[0;34m)\u001b[0m\u001b[0;34m\u001b[0m\u001b[0;34m\u001b[0m\u001b[0m\n",
      "\u001b[0;31mTwilioRestException\u001b[0m: HTTP 400 error: Unable to create record: The From phone number +972529369061 is not a valid, SMS-capable inbound phone number or short code for your account."
     ]
    }
   ],
   "source": [
    "message = client.messages \\\n",
    "                .create(\n",
    "                     body=\"Join Earth's mightiest heroes. Like Kevin Bacon.\",\n",
    "                     from_='+972529369061',\n",
    "                     to='+972585096390'\n",
    "                 )\n",
    "\n",
    "print(message.sid)"
   ]
  },
  {
   "cell_type": "markdown",
   "id": "9a72931c",
   "metadata": {
    "heading_collapsed": true
   },
   "source": [
    "### VONAGE"
   ]
  },
  {
   "cell_type": "code",
   "execution_count": 1,
   "id": "4f1dfb31",
   "metadata": {
    "hidden": true
   },
   "outputs": [],
   "source": [
    "apikey = \"ad070065\"\n",
    "apisecret = \"HHBSwbDfjI3GmcPy\""
   ]
  },
  {
   "cell_type": "code",
   "execution_count": 2,
   "id": "21572976",
   "metadata": {
    "hidden": true
   },
   "outputs": [],
   "source": [
    "import vonage"
   ]
  },
  {
   "cell_type": "code",
   "execution_count": 3,
   "id": "5fbcd5fa",
   "metadata": {
    "hidden": true
   },
   "outputs": [],
   "source": [
    "client = vonage.Client(key=\"ad070065\", secret=\"HHBSwbDfjI3GmcPy\")\n",
    "sms = vonage.Sms(client)"
   ]
  },
  {
   "cell_type": "code",
   "execution_count": 4,
   "id": "2860db08",
   "metadata": {
    "hidden": true
   },
   "outputs": [
    {
     "name": "stdout",
     "output_type": "stream",
     "text": [
      "Message sent successfully.\n"
     ]
    }
   ],
   "source": [
    "responseData = sms.send_message(\n",
    "    {\n",
    "        \"from\": \"Vonage APIs\",\n",
    "        \"to\": \"972529369061\",\n",
    "        \"text\": \"A text message sent using the Nexmo SMS API\",\n",
    "    }\n",
    ")\n",
    "\n",
    "if responseData[\"messages\"][0][\"status\"] == \"0\":\n",
    "    print(\"Message sent successfully.\")\n",
    "else:\n",
    "    print(f\"Message failed with error: {responseData['messages'][0]['error-text']}\")"
   ]
  }
 ],
 "metadata": {
  "kernelspec": {
   "display_name": "Python 3 (ipykernel)",
   "language": "python",
   "name": "python3"
  },
  "language_info": {
   "codemirror_mode": {
    "name": "ipython",
    "version": 3
   },
   "file_extension": ".py",
   "mimetype": "text/x-python",
   "name": "python",
   "nbconvert_exporter": "python",
   "pygments_lexer": "ipython3",
   "version": "3.7.9"
  }
 },
 "nbformat": 4,
 "nbformat_minor": 5
}
