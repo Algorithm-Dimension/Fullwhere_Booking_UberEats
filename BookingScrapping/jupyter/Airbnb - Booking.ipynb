{
 "cells": [
  {
   "cell_type": "code",
   "execution_count": 1,
   "id": "7e4add51",
   "metadata": {},
   "outputs": [],
   "source": [
    "from selenium import webdriver\n",
    "from bs4 import BeautifulSoup\n",
    "from selenium.webdriver.common.by import By\n",
    "from selenium.webdriver.common.keys import Keys\n",
    "import time \n",
    "import numpy as np\n",
    "import string\n",
    "from collections import Counter\n",
    "import pickle"
   ]
  },
  {
   "cell_type": "markdown",
   "id": "9840d888",
   "metadata": {
    "heading_collapsed": true
   },
   "source": [
    "### AIRBNB"
   ]
  },
  {
   "cell_type": "code",
   "execution_count": null,
   "id": "fb5939d7",
   "metadata": {
    "hidden": true
   },
   "outputs": [],
   "source": [
    "URL = \"https://www.airbnb.fr/rooms/45941394/reviews?source_impression_id=p3_1670354675_z9wEj2%2BYJx5kElAy\"\n",
    "\n",
    "# start a Selenium web driver\n",
    "driver = webdriver.Chrome()\n",
    "\n",
    "# navigate to the Airbnb page\n",
    "driver.get(URL)"
   ]
  },
  {
   "cell_type": "code",
   "execution_count": null,
   "id": "5666113b",
   "metadata": {
    "hidden": true
   },
   "outputs": [],
   "source": [
    "# remove box\n",
    "trad_box_xpath = \"/html/body/div[9]/section/div/div/div[2]/div/div[1]/button\"\n",
    "reviews_button = driver.find_element(By.XPATH, value=trad_box_xpath)\n",
    "reviews_button.click()"
   ]
  },
  {
   "cell_type": "code",
   "execution_count": null,
   "id": "a3777b31",
   "metadata": {
    "hidden": true
   },
   "outputs": [],
   "source": [
    "#cancel traduction\n",
    "world_xpath = \"/html/body/div[5]/div/div/div[1]/div/div[1]/div/div/div/div/div[1]/div/div/header/div/div[3]/nav/div[1]/div/button\"\n",
    "world_button = driver.find_element(By.XPATH, value=world_xpath)\n",
    "world_button.click()"
   ]
  },
  {
   "cell_type": "code",
   "execution_count": null,
   "id": "433dc506",
   "metadata": {
    "hidden": true
   },
   "outputs": [],
   "source": [
    "# cancel_translation = \"/html/body/div[10]/section/div/div/div[2]/div/div[2]/div/div[2]/div[1]/section[1]/div/ul/li/div/div[2]/button\"\n",
    "# cancel_translation_button = driver.find_element(By.XPATH, value=cancel_translation)\n",
    "# cancel_translation_button.click()"
   ]
  },
  {
   "cell_type": "code",
   "execution_count": null,
   "id": "0676459b",
   "metadata": {
    "hidden": true
   },
   "outputs": [],
   "source": [
    "driver.execute_script(\"window.scrollTo(0, 3200);\")"
   ]
  },
  {
   "cell_type": "code",
   "execution_count": null,
   "id": "d4f1435d",
   "metadata": {
    "hidden": true
   },
   "outputs": [],
   "source": [
    "# wait for the page to load and for the reviews to appear\n",
    "comments_xpath = \"/html/body/div[5]/div/div/div[1]/div/div[1]/div/div/div/div/div[1]/main/div/div[1]/div[4]/div/div/div/div[2]/section/div[4]/button\"\n",
    "reviews_button = driver.find_element(By.XPATH, value=comments_xpath)\n",
    "reviews_button.click()"
   ]
  },
  {
   "cell_type": "code",
   "execution_count": null,
   "id": "8c150488",
   "metadata": {
    "hidden": true
   },
   "outputs": [],
   "source": [
    "scroll_down_xpath = \"/html/body/div[10]/section/div/div/div[2]/div/div[3]/div\"\n",
    "element = driver.find_element(By.XPATH, scroll_down_xpath)"
   ]
  },
  {
   "cell_type": "code",
   "execution_count": null,
   "id": "cc769daf",
   "metadata": {
    "hidden": true
   },
   "outputs": [],
   "source": [
    "element.send_keys(Keys.END)"
   ]
  },
  {
   "cell_type": "code",
   "execution_count": null,
   "id": "4d78045c",
   "metadata": {
    "hidden": true
   },
   "outputs": [],
   "source": [
    "# comment_list_xpath = \"/html/body/div[9]/section/div/div/div[2]/div/div[3]/div/div/div/div/section/div[3]\"\n",
    "# comments = driver.find_elements(By.XPATH, value=comment_list_xpath)"
   ]
  },
  {
   "cell_type": "code",
   "execution_count": null,
   "id": "ec5d68b7",
   "metadata": {
    "hidden": true
   },
   "outputs": [],
   "source": [
    "html = driver.page_source\n",
    "soup = BeautifulSoup(html, 'html.parser')\n",
    "review_elements = soup.find_all(class_=\"r1are2x1 dir dir-ltr\")"
   ]
  },
  {
   "cell_type": "code",
   "execution_count": null,
   "id": "130cb090",
   "metadata": {
    "hidden": true
   },
   "outputs": [],
   "source": [
    "reviews = [elem.text for elem in review_elements]\n",
    "print(len(reviews), \"Reviews:\", \"\\n\")\n",
    "for r_ in reviews:\n",
    "    print(r_, \"\\n\")"
   ]
  },
  {
   "cell_type": "markdown",
   "id": "327abe81",
   "metadata": {
    "heading_collapsed": true
   },
   "source": [
    "### BOOKING"
   ]
  },
  {
   "cell_type": "code",
   "execution_count": null,
   "id": "5a23355e",
   "metadata": {
    "hidden": true
   },
   "outputs": [],
   "source": [
    "URL = \"https://admin.booking.com/\"\n",
    "\n",
    "# start a Selenium web driver\n",
    "driver = webdriver.Chrome()\n",
    "\n",
    "# navigate to the Airbnb page\n",
    "# driver.get(URL)"
   ]
  },
  {
   "cell_type": "code",
   "execution_count": null,
   "id": "499f2aa5",
   "metadata": {
    "hidden": true
   },
   "outputs": [],
   "source": [
    "admin_xpath = \"/html/body/div[1]/div/div/div/div[2]/div[1]/div/div/div/div/div/div/form/div[1]/div/div/div/input\"\n",
    "\n",
    "reviews_button = driver.find_element(By.XPATH, value=admin_xpath)\n",
    "reviews_button.send_keys(\"Chloé Maison Bayard\")"
   ]
  },
  {
   "cell_type": "code",
   "execution_count": null,
   "id": "ae3c78c6",
   "metadata": {
    "hidden": true
   },
   "outputs": [],
   "source": [
    "admin_click_path = \"/html/body/div[1]/div/div/div/div[2]/div[1]/div/div/div/div/div/div/form/div[3]/button\"\n",
    "\n",
    "reviews_button = driver.find_element(By.XPATH, value=admin_click_path)\n",
    "reviews_button.click()"
   ]
  },
  {
   "cell_type": "code",
   "execution_count": null,
   "id": "bd61d686",
   "metadata": {
    "hidden": true
   },
   "outputs": [],
   "source": [
    "password_xpath = \"/html/body/div[1]/div/div/div/div[2]/div[1]/div/div/div/div/div/div/form/div[1]/div/div/div/div/input\"\n",
    "\n",
    "reviews_button = driver.find_element(By.XPATH, value=password_xpath)\n",
    "reviews_button.send_keys(\"Bayard02023\")"
   ]
  },
  {
   "cell_type": "code",
   "execution_count": null,
   "id": "047f6fa1",
   "metadata": {
    "hidden": true
   },
   "outputs": [],
   "source": [
    "password_click_path = \"/html/body/div[1]/div/div/div/div[2]/div[1]/div/div/div/div/div/div/form/div[2]/button\"\n",
    "\n",
    "reviews_button = driver.find_element(By.XPATH, value=password_click_path)\n",
    "reviews_button.click()"
   ]
  },
  {
   "cell_type": "markdown",
   "id": "c461c1db",
   "metadata": {},
   "source": [
    "### UNDETECTABLE"
   ]
  },
  {
   "cell_type": "code",
   "execution_count": 14,
   "id": "cfbb2ebb",
   "metadata": {},
   "outputs": [
    {
     "data": {
      "text/plain": [
       "'+$ip-LzE9GnrqKn'"
      ]
     },
     "execution_count": 14,
     "metadata": {},
     "output_type": "execute_result"
    }
   ],
   "source": [
    "import undetected_chromedriver as uc\n",
    "\n",
    "driver = uc.Chrome()\n",
    "URL = \"https://admin.booking.com/\"\n",
    "# driver.delete_all_cookies()\n",
    "\n",
    "\n",
    "\"+$ip-LzE9GnrqKn\""
   ]
  },
  {
   "cell_type": "code",
   "execution_count": 15,
   "id": "13966049",
   "metadata": {},
   "outputs": [],
   "source": [
    "driver.get(URL)"
   ]
  },
  {
   "cell_type": "code",
   "execution_count": 16,
   "id": "ea93c0cc",
   "metadata": {},
   "outputs": [],
   "source": [
    "# cookies = pickle.load(open(\"cookiesBooking.pkl\",\"rb\"))\n",
    "# for cookie in cookies:\n",
    "#     driver.add_cookie(cookie)"
   ]
  },
  {
   "cell_type": "code",
   "execution_count": 17,
   "id": "b5b2f67b",
   "metadata": {},
   "outputs": [],
   "source": [
    "admin_xpath = \"/html/body/div[1]/div/div/div/div[2]/div[1]/div/div/div/div/div/div/form/div[1]/div/div/div/input\"\n",
    "\n",
    "reviews_button = driver.find_element(By.XPATH, value=admin_xpath)\n",
    "reviews_button.send_keys(\"Chloé Maison Bayard\")"
   ]
  },
  {
   "cell_type": "code",
   "execution_count": 18,
   "id": "362040d8",
   "metadata": {},
   "outputs": [],
   "source": [
    "admin_click_path = \"/html/body/div[1]/div/div/div/div[2]/div[1]/div/div/div/div/div/div/form/div[3]/button\"\n",
    "\n",
    "reviews_button = driver.find_element(By.XPATH, value=admin_click_path)\n",
    "reviews_button.click()"
   ]
  },
  {
   "cell_type": "code",
   "execution_count": 19,
   "id": "f7f9a741",
   "metadata": {},
   "outputs": [],
   "source": [
    "password_xpath = \"/html/body/div[1]/div/div/div/div[2]/div[1]/div/div/div/div/div/div/form/div[1]/div/div/div/div/input\"\n",
    "\n",
    "reviews_button = driver.find_element(By.XPATH, value=password_xpath)\n",
    "reviews_button.send_keys(\"Bayard02023\")"
   ]
  },
  {
   "cell_type": "code",
   "execution_count": 20,
   "id": "eae328d6",
   "metadata": {},
   "outputs": [],
   "source": [
    "password_click_path = \"/html/body/div[1]/div/div/div/div[2]/div[1]/div/div/div/div/div/div/form/div[2]/button\"\n",
    "\n",
    "reviews_button = driver.find_element(By.XPATH, value=password_click_path)\n",
    "reviews_button.click()"
   ]
  },
  {
   "cell_type": "code",
   "execution_count": 21,
   "id": "914178dc",
   "metadata": {},
   "outputs": [],
   "source": [
    "phone_verif_path = \"/html/body/div[1]/div/div/div/div[2]/div[1]/div/div/div/div/div/div/div[2]/a[1]/div\"\n",
    "reviews_button = driver.find_element(By.XPATH, value=phone_verif_path)\n",
    "reviews_button.click()"
   ]
  },
  {
   "cell_type": "code",
   "execution_count": 22,
   "id": "23cab2fc",
   "metadata": {},
   "outputs": [],
   "source": [
    "# CHANGE TO OUR NUMBERS\n",
    "dropdown_numbers = \"/html/body/div[1]/div/div/div/div[2]/div[1]/div/div/div/div/div/div/div/div[2]/div/div/select/option[2]\"\n",
    "reviews_button = driver.find_element(By.XPATH, value=dropdown_numbers)\n",
    "reviews_button.click()"
   ]
  },
  {
   "cell_type": "code",
   "execution_count": 23,
   "id": "359e22d2",
   "metadata": {},
   "outputs": [],
   "source": [
    "send_code_button = \"/html/body/div[1]/div/div/div/div[2]/div[1]/div/div/div/div/div/div/div/div[3]/button\"\n",
    "reviews_button = driver.find_element(By.XPATH, value=send_code_button)\n",
    "reviews_button.click()"
   ]
  },
  {
   "cell_type": "code",
   "execution_count": 24,
   "id": "9ecc554f",
   "metadata": {},
   "outputs": [],
   "source": [
    "code = \"824114\"\n",
    "verif_code = \"/html/body/div[1]/div/div/div/div[2]/div[1]/div/div/div/div/div/div/form/div[1]/div/div/div/div/input\"\n",
    "verif_code_button = driver.find_element(By.XPATH, value=verif_code)\n",
    "verif_code_button.send_keys(\"824114\")"
   ]
  },
  {
   "cell_type": "code",
   "execution_count": 25,
   "id": "c9170e23",
   "metadata": {},
   "outputs": [],
   "source": [
    "verify_now = \"/html/body/div[1]/div/div/div/div[2]/div[1]/div/div/div/div/div/div/form/div[2]/button\"\n",
    "verify_now_button = driver.find_element(By.XPATH, value=verify_now)\n",
    "verify_now_button.click()"
   ]
  },
  {
   "cell_type": "code",
   "execution_count": 26,
   "id": "3c0874b4",
   "metadata": {},
   "outputs": [],
   "source": [
    "# pickle.dump(driver.get_cookies(), open(\"cookiesBooking.pkl\", \"wb\"))\n",
    "# print(driver.get_cookies())"
   ]
  },
  {
   "cell_type": "code",
   "execution_count": null,
   "id": "ce83a808",
   "metadata": {},
   "outputs": [],
   "source": [
    "## TO ADD\n",
    "## GETTING CODE USING SMS PYTHON API\n",
    "## FILL IN CODE TO BOX\n",
    "## CLICK VERIFY BUTTON"
   ]
  },
  {
   "cell_type": "markdown",
   "id": "75c19d17",
   "metadata": {},
   "source": [
    "### BOOKING UNE FOIS QUON EST DEDANS"
   ]
  },
  {
   "cell_type": "code",
   "execution_count": 28,
   "id": "6f149afc",
   "metadata": {},
   "outputs": [],
   "source": [
    "## GUEST REVIEWS\n",
    "guest_path = \"/html/body/div[1]/div/div/div/header/div[2]/nav/div[2]/div/ul/li[8]/button\"\n",
    "guest_path_button = driver.find_element(By.XPATH, value=guest_path)\n",
    "guest_path_button.click()"
   ]
  },
  {
   "cell_type": "code",
   "execution_count": 29,
   "id": "3e7f3f18",
   "metadata": {},
   "outputs": [],
   "source": [
    "## GUEST REVIEWS DROPDOWN\n",
    "guest_path = \"/html/body/div[1]/div/div/div/header/div[2]/nav/div[2]/div/ul/li[8]/div/ul/li[1]/a\"\n",
    "guest_path_button = driver.find_element(By.XPATH, value=guest_path)\n",
    "guest_path_button.click()"
   ]
  },
  {
   "cell_type": "code",
   "execution_count": 30,
   "id": "e57d10c7",
   "metadata": {},
   "outputs": [],
   "source": [
    "driver.execute_script(\"window.scrollTo(0, 1000);\")"
   ]
  },
  {
   "cell_type": "code",
   "execution_count": 22,
   "id": "db52ca38",
   "metadata": {},
   "outputs": [],
   "source": [
    "# guest_path = \"/html/body/div[1]/div/div/div/main/div/div[4]/div[1]/div/div[1]/div[1]/div/div[1]/div/ul/li[2]\"\n",
    "# guest_path_button = driver.find_element(By.XPATH, value=guest_path)\n",
    "# guest_path_button.click()"
   ]
  },
  {
   "cell_type": "code",
   "execution_count": 31,
   "id": "51371f25",
   "metadata": {},
   "outputs": [],
   "source": [
    "# r_.replace(\"-\", \"\")"
   ]
  },
  {
   "cell_type": "code",
   "execution_count": 32,
   "id": "73ab865f",
   "metadata": {
    "scrolled": true
   },
   "outputs": [],
   "source": [
    "html = driver.page_source\n",
    "soup = BeautifulSoup(html, 'html.parser')\n",
    "review_elements = soup.find_all(class_=\"gr-review-card bui-panel\")\n",
    "reviews = [elem.text for elem in review_elements]\n",
    "final_reviews = [[x.strip() for x in r_.replace(\"-\", \"\").split(\"\\n\") if len(x.strip()) > 0] for r_ in reviews]"
   ]
  },
  {
   "cell_type": "code",
   "execution_count": 33,
   "id": "63a760ce",
   "metadata": {},
   "outputs": [
    {
     "data": {
      "text/plain": [
       "'30'"
      ]
     },
     "execution_count": 33,
     "metadata": {},
     "output_type": "execute_result"
    }
   ],
   "source": [
    "page_number = \"/html/body/div[1]/div/div/div/main/div/div[4]/div[1]/div/div[2]/div[11]/div[1]/ul/li[8]/ul/li/a\"\n",
    "page_number_value = driver.find_element(By.XPATH, value=page_number)"
   ]
  },
  {
   "cell_type": "code",
   "execution_count": 35,
   "id": "043c2c95",
   "metadata": {},
   "outputs": [],
   "source": [
    "## TO ADD NUMBER OF PAGES\n",
    "for _ in range(int(page_number_value.text)):\n",
    "    time.sleep(2 + np.random.randint(3))\n",
    "    next_page = \"/html/body/div[1]/div/div/div/main/div/div[4]/div[1]/div/div[2]/div[11]/div[1]/ul/li[9]/a\"\n",
    "    guest_path_button = driver.find_element(By.XPATH, value=next_page)\n",
    "    guest_path_button.click()\n",
    "    time.sleep(3 + np.random.randint(4))\n",
    "    html = driver.page_source\n",
    "    soup = BeautifulSoup(html, 'html.parser')\n",
    "    review_elements = soup.find_all(class_=\"gr-review-card bui-panel\")\n",
    "    reviews = [elem.text for elem in review_elements]\n",
    "    final_reviews.extend([[x.strip() for x in r_.replace(\"-\", \"\").split(\"\\n\") if len(x.strip()) > 0] for r_ in reviews])"
   ]
  },
  {
   "cell_type": "code",
   "execution_count": 36,
   "id": "ebc1fce2",
   "metadata": {},
   "outputs": [
    {
     "data": {
      "text/plain": [
       "296"
      ]
     },
     "execution_count": 36,
     "metadata": {},
     "output_type": "execute_result"
    }
   ],
   "source": [
    "len(final_reviews)"
   ]
  },
  {
   "cell_type": "code",
   "execution_count": 37,
   "id": "c29e7d08",
   "metadata": {},
   "outputs": [
    {
     "name": "stdout",
     "output_type": "stream",
     "text": [
      "COMMENT SIZE:  2\n",
      "10 \n",
      "\n",
      "Anonymous  14 Aug 2022   Why are you still seeing anonymous reviews? Some guests using older versions of our mobile apps can still leave anonymous reviews. But this number is small and you should see fewer anonymous reviews as more guests update their apps.    Basic categories   Staff 10 Cleanliness 10 Location 7.5 Facilities 10 Comfort 10 Value for money 7.5       beautiful decorations  nothing   Reply \n",
      "\n",
      "\n",
      " ==================================================\n",
      "COMMENT SIZE:  3\n",
      "10 \n",
      "\n",
      "Anonymous  27 Sept 2021   Why are you still seeing anonymous reviews? Some guests using older versions of our mobile apps can still leave anonymous reviews. But this number is small and you should see fewer anonymous reviews as more guests update their apps.    Basic categories   Staff 10 Cleanliness 10 Location 5 Facilities 10 Comfort 10 Value for money 10   Additional categories   Onsite restaurant 7.5 \n",
      "\n",
      "Translate to English   Tout est parfait, le personnel, l'ambiance tout !  Seul inconvénients le parking inexistant..    View your approved response \n",
      "\n",
      "\n",
      " ==================================================\n",
      "COMMENT SIZE:  4\n",
      "9.0 \n",
      "\n",
      "Anonymous  29 May 2022   Why are you still seeing anonymous reviews? Some guests using older versions of our mobile apps can still leave anonymous reviews. But this number is small and you should see fewer anonymous reviews as more guests update their apps.    Basic categories   Staff 10 Cleanliness 10 Location 7.5 Facilities 5 Comfort 7.5 Value for money 7.5   Additional categories   Bed rating 10 \n",
      "\n",
      "Translate to English   Beaucoup de charme, personnel au top, espace extérieur sympathique  La chambre du dernier étage est jolie mais très petite \n",
      "\n",
      "Eau chaude aléatoire    View your approved response \n",
      "\n",
      "\n",
      " ==================================================\n",
      "COMMENT SIZE:  5\n",
      "8.0 \n",
      "\n",
      "Monica, ch \n",
      "\n",
      "Reservation number \n",
      "\n",
      "3639771225 \n",
      "\n",
      "17 Jan 2023 New!   Basic categories   Staff 10 Cleanliness 7.5 Location 10 Facilities 7.5 Comfort 10 Value for money 7.5 \n",
      "\n",
      "\n",
      " ==================================================\n",
      "COMMENT SIZE:  6\n",
      "10 \n",
      "\n",
      "Sylvie, fr \n",
      "\n",
      "Reservation number \n",
      "\n",
      "2156508109 \n",
      "\n",
      "8 Jan 2023    Basic categories   Staff 10 Cleanliness 10 Location 10 Facilities 10 Comfort 10 Value for money 10 \n",
      "\n",
      "Translate to English de la surprise et du plaisir  l accueil chaleureux  le décor recherché et le repas du soir délicieux  le parking   Reply \n",
      "\n",
      "\n",
      " ==================================================\n",
      "COMMENT SIZE:  7\n",
      "9.0 \n",
      "\n",
      "claire, fr \n",
      "\n",
      "Reservation number \n",
      "\n",
      "2802206286 \n",
      "\n",
      "4 Jan 2023    Basic categories   Staff 7.5 Cleanliness 7.5 Location 7.5 Facilities 7.5 Comfort 7.5 Value for money 10 \n",
      "\n",
      "Translated from French by \n",
      "\n",
      "Show original Great  very good stay, very nice staff  The coffee maker available that had to be detached instead of the water.   Reply \n",
      "\n",
      "\n",
      " ==================================================\n",
      "COMMENT SIZE:  8\n",
      "6.0 \n",
      "\n",
      "Victor, fr \n",
      "\n",
      "Reservation number \n",
      "\n",
      "2150526921 \n",
      "\n",
      "16 Jan 2023    Basic categories   Staff 2.5 Cleanliness 7.5 Location 5 Facilities 7.5 Comfort 7.5 Value for money 5   Additional categories   Bed rating 7.5 \n",
      "\n",
      "Translated from French \n",
      "\n",
      "Show original   The rooms are ok, nothing small  soul less hotel, more staff in full time in the hotel, we find ourselves in an AirBnb, the price is more. \n",
      "\n",
      "I was warned the same day that the bar and restaurant closed, too bad that was one of the main reasons I chose.   Reply \n",
      "\n",
      "\n",
      " ==================================================\n",
      "COMMENT SIZE:  9\n",
      "5.0 \n",
      "\n",
      "Patrick, fr \n",
      "\n",
      "Reservation number \n",
      "\n",
      "3968508440 \n",
      "\n",
      "11 Oct 2022    Basic categories   Staff 5 Cleanliness 7.5 Location 7.5 Facilities 7.5 Comfort 7.5 Value for money 5   Additional categories   Bed rating 7.5 \n",
      "\n",
      "Translated from French \n",
      "\n",
      "Show original   Nice building with a nice little garden. \n",
      "\n",
      "Small but cozy room.  The welcome is not warm, welcome cocktail without taste interest, the case we took had no taste. \n",
      "\n",
      "We are surprised by the rating assigned on booking.   Reply \n",
      "\n",
      "\n",
      " ==================================================\n",
      "COMMENT SIZE:  10\n",
      "8.0 \n",
      "\n",
      "PASCAL, fr \n",
      "\n",
      "Reservation number \n",
      "\n",
      "3537230474 \n",
      "\n",
      "30 May 2022    Basic categories   Staff 10 Cleanliness 7.5 Location 7.5 Facilities 7.5 Comfort 10 Value for money 7.5 \n",
      "\n",
      "Translate to English Une maison de charme avec un personnel bienveillant !  La bienveillance du personnel est la force de cet hôtel ! \n",
      "\n",
      "Une jolie maison de charme dans un jardin. \n",
      "\n",
      "Un quartier central tout en étant plus authentique. \n",
      "\n",
      "Le restaurant a un choix limité mais est original et excellent !  Pas d’ascenseur. \n",
      "\n",
      "L’éclairage présenté comme écoresponsable s’avère un peu compliqué.    View your approved response \n",
      "\n",
      "\n",
      " ==================================================\n",
      "COMMENT SIZE:  11\n",
      "9.0 \n",
      "\n",
      "Romain, fr \n",
      "\n",
      "Reservation number \n",
      "\n",
      "3170185019 \n",
      "\n",
      "29 Dec 2021    Basic categories   Staff 10 Cleanliness 10 Location 7.5 Facilities 10 Comfort 10 Value for money 10   Additional categories   WiFi 10 Breakfast 5 \n",
      "\n",
      "Translate to English   Nous avons adoré ce lieu très charmant, avec un personnel adorable, à l'écoute, disponible, au petit soin! \n",
      "\n",
      "Belle maison bourgeoise réhabilitée en hôtel; le charme de l'ancien a été conservé et revisité avec sa belle déco. \n",
      "\n",
      "Chambre très propre, bonne literie. \n",
      "\n",
      "Hotel situé proche de la gare, et à proximité du centreville. \n",
      "\n",
      "Carte des cocktails très qualitative! \n",
      "\n",
      "Nous reviendrons les yeux fermés!  Juste un petit bémol pour le petit déjeuner, pas à la hauteur du reste (peu de choix, pas de formule, tout à la carte, donc cher.... les gâteaux n'étaient pas frais (certainement de la veille); mais nous ne retiendrons pas ce petit détail!    View your approved response \n",
      "\n",
      "\n",
      " ==================================================\n",
      "COMMENT SIZE:  12\n",
      "6.0 \n",
      "\n",
      "Alexandra, fr \n",
      "\n",
      "Reservation number \n",
      "\n",
      "2184253400 \n",
      "\n",
      "5 Jan 2023    Basic categories   Staff 7.5 Cleanliness 5 Location 5 Facilities 5 Comfort 7.5 Value for money 7.5     need to be improved  quite nice staff \n",
      "\n",
      "a hotel like a home \n",
      "\n",
      "coffee and tea in the room  bad area \n",
      "\n",
      "street very noisy \n",
      "\n",
      "carpet and curtain in the room \n",
      "\n",
      "missed a lot of things : no paper nor pen, no sleepers, no conditioner, no cotonswabs, no shower curtain (water everywhere in the bathroom when you try to have a shower) \n",
      "\n",
      "very cold bathroom even with the local heater \n",
      "\n",
      "too simple breakfast   Reply \n",
      "\n",
      "\n",
      " ==================================================\n",
      "COMMENT SIZE:  14\n",
      "8.0 \n",
      "\n",
      "STEFANO, it \n",
      "\n",
      "Reservation number \n",
      "\n",
      "2697377656 \n",
      "\n",
      "16 Nov 2021    Basic categories   Staff 5 Cleanliness 10 Location 10 Facilities 7.5 Comfort 10 Value for money 10 \n",
      "\n",
      "Translate to English Struttura ben curata  È molto curata e accogliente \n",
      "\n",
      "moderna e particolare \n",
      "\n",
      "camere spaziose (abbiamo preso due superior di cui una con balcone) \n",
      "\n",
      "a 5 minuti a piedi dal centro \n",
      "\n",
      "silenziosa \n",
      "\n",
      "zona tranquilla  La colazione è possibile farla solo dalle 8:00 in poi. Visto che dovevamo partire prima avevamo chiesto di farla alle 7:00, ma non è stato possibile. nessuna eccezione. \n",
      "\n",
      "neanche avessimo chiesto le 6:00… \n",
      "\n",
      "peccato che a quell’ora fuori è tutto chiuso se non un forno in centro che non ha posti a sedere. \n",
      "\n",
      "potrebbero essere un po’ più flessibili    View your approved response \n",
      "\n",
      "\n",
      " ==================================================\n",
      "COMMENT SIZE:  15\n",
      "8.0 \n",
      "\n",
      "Chloé, fr \n",
      "\n",
      "Reservation number \n",
      "\n",
      "3762699891 \n",
      "\n",
      "21 Nov 2021    Basic categories   Staff 7.5 Cleanliness 7.5 Location 7.5 Facilities 7.5 Comfort 7.5 Value for money 7.5   Additional categories   Bed rating 10 \n",
      "\n",
      "Translate to English City break Montpellier  L'ambiance boutique hôtel \n",
      "\n",
      "La chambre spacieuse avec terrasse \n",
      "\n",
      "La décoration \n",
      "\n",
      "La baignoire dans la salle de bain \n",
      "\n",
      "La literie \n",
      "\n",
      "Les cocktails du bar  Manque une serviette pour les cheveux/ main \n",
      "\n",
      "Manque une savonnette ou savon liquide main \n",
      "\n",
      "Manque une boîte de mouchoirs \n",
      "\n",
      "Petit déjeuner pas terrible cake un peu dur de la Veille \n",
      "\n",
      "Restauration moyen    View your approved response \n",
      "\n",
      "\n",
      " ==================================================\n"
     ]
    }
   ],
   "source": [
    "for x_ in list(set([len(x) for x in final_reviews])):\n",
    "    for y_ in final_reviews:\n",
    "        if len(y_) == x_:\n",
    "            print(\"COMMENT SIZE: \", x_)\n",
    "            for y_m in y_:\n",
    "                print(y_m, \"\\n\")\n",
    "            break\n",
    "    print(\"\\n\", \"=\" * 50)"
   ]
  },
  {
   "cell_type": "code",
   "execution_count": null,
   "id": "e436f4b3",
   "metadata": {},
   "outputs": [],
   "source": [
    "## COMMENTS: \n",
    "\n",
    "# ADD A WAY TO SCROLL IN FRONT OF EVERY REVIEWS IN ORDER TO TRANSLATE EVERYTHING \n",
    "# CONVERT INTO THE NEW FORMAT "
   ]
  },
  {
   "cell_type": "code",
   "execution_count": null,
   "id": "1adde241",
   "metadata": {},
   "outputs": [],
   "source": [
    "reply_button = \"/html/body/div[1]/div/div/div/main/div/div[4]/div[1]/div/div[2]/div[1]/div[6]/button\"\n",
    "\n",
    "guest_path_button = driver.find_element(By.XPATH, value=reply_button)\n",
    "guest_path_button.click()"
   ]
  },
  {
   "cell_type": "code",
   "execution_count": null,
   "id": "e7684414",
   "metadata": {},
   "outputs": [],
   "source": [
    "guest_path_button = driver.find_element(By.XPATH, \n",
    "                                        value=\"/html/body/div[1]/div/div/div/main/div/div[4]/div[1]/div/div[2]/div[1]/div[6]/button\")\n",
    "guest_path_button.click()"
   ]
  },
  {
   "cell_type": "code",
   "execution_count": null,
   "id": "7fe17145",
   "metadata": {},
   "outputs": [],
   "source": [
    "guest_path_button.click()"
   ]
  },
  {
   "cell_type": "code",
   "execution_count": null,
   "id": "2f1823a0",
   "metadata": {},
   "outputs": [],
   "source": [
    "\"3497408116\""
   ]
  },
  {
   "cell_type": "code",
   "execution_count": null,
   "id": "b5c58060",
   "metadata": {},
   "outputs": [],
   "source": [
    "\"/html/body/div[1]/div/div/div/main/div/div[4]/div[1]/div/div[2]/div[1]/div[6]/button\"\n",
    "\"/html/body/div[1]/div/div/div/main/div/div[4]/div[1]/div/div[2]/div[2]/div[5]/button\"\n",
    "\"/html/body/div[1]/div/div/div/main/div/div[4]/div[1]/div/div[2]/div[3]/div[5]/button\"\n",
    "\"/html/body/div[1]/div/div/div/main/div/div[4]/div[1]/div/div[2]/div[4]/div[5]/button\"\n",
    "\"/html/body/div[1]/div/div/div/main/div/div[4]/div[1]/div/div[2]/div[5]/div[6]/button\"\n",
    "\"/html/body/div[1]/div/div/div/main/div/div[4]/div[1]/div/div[2]/div[6]/div[6]/button\"\n",
    "\"/html/body/div[1]/div/div/div/main/div/div[4]/div[1]/div/div[2]/div[7]/div[5]/button\"\n",
    "\"/html/body/div[1]/div/div/div/main/div/div[4]/div[1]/div/div[2]/div[8]/div[5]/button\"\n",
    "\"/html/body/div[1]/div/div/div/main/div/div[4]/div[1]/div/div[2]/div[9]/div[5]/button\"\n",
    "\"/html/body/div[1]/div/div/div/main/div/div[4]/div[1]/div/div[2]/div[10]/div[6]/button\""
   ]
  },
  {
   "cell_type": "code",
   "execution_count": null,
   "id": "1931d76c",
   "metadata": {},
   "outputs": [],
   "source": [
    "{\"note\": 6, \n",
    " \"customer_name\": \"Clara\", \n",
    " \"customer_country\": \"fr\", \n",
    " \"date\": MM-DD-AAAA, \n",
    " \"reservation_number\": \"2340000000\", \n",
    " \"basic_categories\": {\"staff\": 5, \"cleanliness\": 2.5...}, ## TEMP: CONVERT TO TEXT \n",
    " \"additional_categories\": {\"room_service\", :5, ...}, ## TEMP: CONVERT TO TEXT \n",
    " \"positive_feedback\": \"\", \n",
    " \"negative_feedback\": \"If you consider...\", \n",
    " \"replied\": False}\n",
    "\n",
    "\n",
    "\"\"\"\n",
    "BASIC CATEGORIES: \n",
    "- Staff: \n",
    "...\n",
    "ADD CATEGORIES:\n",
    "-Bed:\n",
    "...\n",
    "\n",
    "POSITIVE FEEDBACK: \n",
    "LE TEXT\n",
    "\n",
    "NEGATIIVE FEEDBACK: \n",
    "LE TEXT\n",
    "\n",
    "\"\"\"\n",
    "\n",
    "{\"listing_id\": \"Boutique Hotel Maison Bayard - 3797873\", \n",
    "\"note\": 6, \n",
    "\"date\": , \n",
    "\"reservation_number\":, \n",
    "\"review\":, \n",
    "\"customer_name\":, \n",
    "\"country\":, \n",
    "\"date_d'achat\": \"jour ou largent a ete envoye - 8 janvier\", \n",
    " \"total_price\":, \n",
    " \"langue original de la review\"\n",
    "}\n",
    "\n",
    "   \"🏠 Stores\": [\n",
    "      \"{{2.id}}\"\n",
    "    ],\n",
    "    \"Review date\": \"{{formatDate(6.updateTime; \"MM-DD-YYYY\")}}\",\n",
    "    \"Note\": {{11.output}},\n",
    "    \"Rating\": {{11.output}},\n",
    "    \"Platform\": \"Booking\",\n",
    "    \"Review ID\": \"{{6.name}}\",\n",
    "    \"Reviewer complete name\": {{32.json}},\n",
    "    \"Reviewer firstname\": {{37.json}},\n",
    "\"Review text\": {{31.json}},\n",
    "\"Language\": \"{{27.translations[].detected_source_language}}\",\n",
    "\"Customer\": [\"{{34.body.id}}\"]\n",
    "  }\n",
    "}"
   ]
  }
 ],
 "metadata": {
  "kernelspec": {
   "display_name": "Python 3 (ipykernel)",
   "language": "python",
   "name": "python3"
  },
  "language_info": {
   "codemirror_mode": {
    "name": "ipython",
    "version": 3
   },
   "file_extension": ".py",
   "mimetype": "text/x-python",
   "name": "python",
   "nbconvert_exporter": "python",
   "pygments_lexer": "ipython3",
   "version": "3.7.9"
  }
 },
 "nbformat": 4,
 "nbformat_minor": 5
}
